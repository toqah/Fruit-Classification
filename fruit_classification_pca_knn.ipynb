{
  "cells": [
    {
      "cell_type": "markdown",
      "metadata": {
        "id": "0OchXne2ff8h"
      },
      "source": [
        "# FRUIT CLASSIFICATION\n"
      ]
    },
    {
      "cell_type": "code",
      "execution_count": 1,
      "metadata": {
        "_cell_guid": "b1076dfc-b9ad-4769-8c92-a6c4dae69d19",
        "_uuid": "8f2839f25d086af736a60e9eeb907d3b93b6e0e5",
        "id": "byErM9nIff8s"
      },
      "outputs": [],
      "source": [
        "import numpy as np \n",
        "import cv2\n",
        "import glob\n",
        "import os\n",
        "import matplotlib.pyplot as plt\n",
        "import string\n",
        "from mlxtend.plotting import plot_decision_regions\n",
        "from mpl_toolkits.mplot3d import Axes3D\n",
        "from sklearn.decomposition import PCA\n",
        "from sklearn.preprocessing import StandardScaler\n",
        "from sklearn.neighbors import KNeighborsClassifier\n",
        "from sklearn.tree import DecisionTreeClassifier \n",
        "from sklearn.model_selection import train_test_split, cross_val_score\n",
        "from sklearn.utils.multiclass import unique_labels\n",
        "from sklearn import metrics\n",
        "from sklearn.svm import SVC"
      ]
    },
    {
      "cell_type": "code",
      "source": [
        "! pip install -q kaggle\n",
        "from google.colab import files\n",
        "files.upload()\n",
        "! mkdir ~/.kaggle\n",
        "! cp kaggle.json ~/.kaggle/\n",
        "! chmod 600 ~/.kaggle/kaggle.json\n",
        "!kaggle datasets download -d moltean/fruits"
      ],
      "metadata": {
        "colab": {
          "base_uri": "https://localhost:8080/",
          "height": 125
        },
        "id": "xhVKIrzshnEH",
        "outputId": "3e39b47b-d85e-4922-979b-4f11fdc3264b"
      },
      "execution_count": 2,
      "outputs": [
        {
          "output_type": "display_data",
          "data": {
            "text/plain": [
              "<IPython.core.display.HTML object>"
            ],
            "text/html": [
              "\n",
              "     <input type=\"file\" id=\"files-c09daf1b-6109-4fb3-b186-b872a613b24f\" name=\"files[]\" multiple disabled\n",
              "        style=\"border:none\" />\n",
              "     <output id=\"result-c09daf1b-6109-4fb3-b186-b872a613b24f\">\n",
              "      Upload widget is only available when the cell has been executed in the\n",
              "      current browser session. Please rerun this cell to enable.\n",
              "      </output>\n",
              "      <script>// Copyright 2017 Google LLC\n",
              "//\n",
              "// Licensed under the Apache License, Version 2.0 (the \"License\");\n",
              "// you may not use this file except in compliance with the License.\n",
              "// You may obtain a copy of the License at\n",
              "//\n",
              "//      http://www.apache.org/licenses/LICENSE-2.0\n",
              "//\n",
              "// Unless required by applicable law or agreed to in writing, software\n",
              "// distributed under the License is distributed on an \"AS IS\" BASIS,\n",
              "// WITHOUT WARRANTIES OR CONDITIONS OF ANY KIND, either express or implied.\n",
              "// See the License for the specific language governing permissions and\n",
              "// limitations under the License.\n",
              "\n",
              "/**\n",
              " * @fileoverview Helpers for google.colab Python module.\n",
              " */\n",
              "(function(scope) {\n",
              "function span(text, styleAttributes = {}) {\n",
              "  const element = document.createElement('span');\n",
              "  element.textContent = text;\n",
              "  for (const key of Object.keys(styleAttributes)) {\n",
              "    element.style[key] = styleAttributes[key];\n",
              "  }\n",
              "  return element;\n",
              "}\n",
              "\n",
              "// Max number of bytes which will be uploaded at a time.\n",
              "const MAX_PAYLOAD_SIZE = 100 * 1024;\n",
              "\n",
              "function _uploadFiles(inputId, outputId) {\n",
              "  const steps = uploadFilesStep(inputId, outputId);\n",
              "  const outputElement = document.getElementById(outputId);\n",
              "  // Cache steps on the outputElement to make it available for the next call\n",
              "  // to uploadFilesContinue from Python.\n",
              "  outputElement.steps = steps;\n",
              "\n",
              "  return _uploadFilesContinue(outputId);\n",
              "}\n",
              "\n",
              "// This is roughly an async generator (not supported in the browser yet),\n",
              "// where there are multiple asynchronous steps and the Python side is going\n",
              "// to poll for completion of each step.\n",
              "// This uses a Promise to block the python side on completion of each step,\n",
              "// then passes the result of the previous step as the input to the next step.\n",
              "function _uploadFilesContinue(outputId) {\n",
              "  const outputElement = document.getElementById(outputId);\n",
              "  const steps = outputElement.steps;\n",
              "\n",
              "  const next = steps.next(outputElement.lastPromiseValue);\n",
              "  return Promise.resolve(next.value.promise).then((value) => {\n",
              "    // Cache the last promise value to make it available to the next\n",
              "    // step of the generator.\n",
              "    outputElement.lastPromiseValue = value;\n",
              "    return next.value.response;\n",
              "  });\n",
              "}\n",
              "\n",
              "/**\n",
              " * Generator function which is called between each async step of the upload\n",
              " * process.\n",
              " * @param {string} inputId Element ID of the input file picker element.\n",
              " * @param {string} outputId Element ID of the output display.\n",
              " * @return {!Iterable<!Object>} Iterable of next steps.\n",
              " */\n",
              "function* uploadFilesStep(inputId, outputId) {\n",
              "  const inputElement = document.getElementById(inputId);\n",
              "  inputElement.disabled = false;\n",
              "\n",
              "  const outputElement = document.getElementById(outputId);\n",
              "  outputElement.innerHTML = '';\n",
              "\n",
              "  const pickedPromise = new Promise((resolve) => {\n",
              "    inputElement.addEventListener('change', (e) => {\n",
              "      resolve(e.target.files);\n",
              "    });\n",
              "  });\n",
              "\n",
              "  const cancel = document.createElement('button');\n",
              "  inputElement.parentElement.appendChild(cancel);\n",
              "  cancel.textContent = 'Cancel upload';\n",
              "  const cancelPromise = new Promise((resolve) => {\n",
              "    cancel.onclick = () => {\n",
              "      resolve(null);\n",
              "    };\n",
              "  });\n",
              "\n",
              "  // Wait for the user to pick the files.\n",
              "  const files = yield {\n",
              "    promise: Promise.race([pickedPromise, cancelPromise]),\n",
              "    response: {\n",
              "      action: 'starting',\n",
              "    }\n",
              "  };\n",
              "\n",
              "  cancel.remove();\n",
              "\n",
              "  // Disable the input element since further picks are not allowed.\n",
              "  inputElement.disabled = true;\n",
              "\n",
              "  if (!files) {\n",
              "    return {\n",
              "      response: {\n",
              "        action: 'complete',\n",
              "      }\n",
              "    };\n",
              "  }\n",
              "\n",
              "  for (const file of files) {\n",
              "    const li = document.createElement('li');\n",
              "    li.append(span(file.name, {fontWeight: 'bold'}));\n",
              "    li.append(span(\n",
              "        `(${file.type || 'n/a'}) - ${file.size} bytes, ` +\n",
              "        `last modified: ${\n",
              "            file.lastModifiedDate ? file.lastModifiedDate.toLocaleDateString() :\n",
              "                                    'n/a'} - `));\n",
              "    const percent = span('0% done');\n",
              "    li.appendChild(percent);\n",
              "\n",
              "    outputElement.appendChild(li);\n",
              "\n",
              "    const fileDataPromise = new Promise((resolve) => {\n",
              "      const reader = new FileReader();\n",
              "      reader.onload = (e) => {\n",
              "        resolve(e.target.result);\n",
              "      };\n",
              "      reader.readAsArrayBuffer(file);\n",
              "    });\n",
              "    // Wait for the data to be ready.\n",
              "    let fileData = yield {\n",
              "      promise: fileDataPromise,\n",
              "      response: {\n",
              "        action: 'continue',\n",
              "      }\n",
              "    };\n",
              "\n",
              "    // Use a chunked sending to avoid message size limits. See b/62115660.\n",
              "    let position = 0;\n",
              "    do {\n",
              "      const length = Math.min(fileData.byteLength - position, MAX_PAYLOAD_SIZE);\n",
              "      const chunk = new Uint8Array(fileData, position, length);\n",
              "      position += length;\n",
              "\n",
              "      const base64 = btoa(String.fromCharCode.apply(null, chunk));\n",
              "      yield {\n",
              "        response: {\n",
              "          action: 'append',\n",
              "          file: file.name,\n",
              "          data: base64,\n",
              "        },\n",
              "      };\n",
              "\n",
              "      let percentDone = fileData.byteLength === 0 ?\n",
              "          100 :\n",
              "          Math.round((position / fileData.byteLength) * 100);\n",
              "      percent.textContent = `${percentDone}% done`;\n",
              "\n",
              "    } while (position < fileData.byteLength);\n",
              "  }\n",
              "\n",
              "  // All done.\n",
              "  yield {\n",
              "    response: {\n",
              "      action: 'complete',\n",
              "    }\n",
              "  };\n",
              "}\n",
              "\n",
              "scope.google = scope.google || {};\n",
              "scope.google.colab = scope.google.colab || {};\n",
              "scope.google.colab._files = {\n",
              "  _uploadFiles,\n",
              "  _uploadFilesContinue,\n",
              "};\n",
              "})(self);\n",
              "</script> "
            ]
          },
          "metadata": {}
        },
        {
          "output_type": "stream",
          "name": "stdout",
          "text": [
            "Saving kaggle.json to kaggle.json\n",
            "Downloading fruits.zip to /content\n",
            "100% 1.28G/1.28G [00:07<00:00, 128MB/s]\n",
            "100% 1.28G/1.28G [00:07<00:00, 190MB/s]\n"
          ]
        }
      ]
    },
    {
      "cell_type": "code",
      "source": [
        "import zipfile\n",
        "zip = '/content/fruits.zip'\n",
        "data = zipfile.ZipFile(zip, 'r')\n",
        "data.extractall('/content/fruits Dataset')\n",
        "data.close()"
      ],
      "metadata": {
        "id": "1dO-oRuJg_mR"
      },
      "execution_count": 3,
      "outputs": []
    },
    {
      "cell_type": "code",
      "source": [
        "print(os.listdir(\"/content/fruits Dataset/fruits-360_dataset\"))\n",
        "dim = 100"
      ],
      "metadata": {
        "colab": {
          "base_uri": "https://localhost:8080/"
        },
        "id": "6RIdamNThD_f",
        "outputId": "8ba52589-fb59-42c4-a8ca-a6a4904d8b33"
      },
      "execution_count": 4,
      "outputs": [
        {
          "output_type": "stream",
          "name": "stdout",
          "text": [
            "['fruits-360']\n"
          ]
        }
      ]
    },
    {
      "cell_type": "code",
      "execution_count": 5,
      "metadata": {
        "_kg_hide-input": true,
        "id": "EbHaZkx7ff8y"
      },
      "outputs": [],
      "source": [
        "def getYourFruits(fruits, data_type, print_n=False, k_fold=False):\n",
        "    images = []\n",
        "    labels = []\n",
        "    val = ['Training', 'Test']\n",
        "    if not k_fold:\n",
        "        path = \"/content/fruits Dataset/fruits-360_dataset/fruits-360/\" + data_type + \"/\"\n",
        "        for i,f in enumerate(fruits):\n",
        "            p = path + f\n",
        "            j=0\n",
        "            for image_path in glob.glob(os.path.join(p, \"*.jpg\")):\n",
        "                image = cv2.imread(image_path, cv2.IMREAD_COLOR)\n",
        "                image = cv2.resize(image, (dim, dim))\n",
        "                image = cv2.cvtColor(image, cv2.COLOR_RGB2BGR)\n",
        "                images.append(image)\n",
        "                labels.append(i)\n",
        "                j+=1\n",
        "            if(print_n):\n",
        "                print(\"There are \" , j , \" \" , data_type.upper(), \" images of \" , fruits[i].upper())\n",
        "        images = np.array(images)\n",
        "        labels = np.array(labels)\n",
        "        return images, labels\n",
        "    else:\n",
        "        for v in val:\n",
        "            path = \"/content/fruits Dataset/fruits-360_dataset/fruits-360/\" + v + \"/\"\n",
        "            for i,f in enumerate(fruits):\n",
        "                p = path + f\n",
        "                j=0\n",
        "                for image_path in glob.glob(os.path.join(p, \"*.jpg\")):\n",
        "                    image = cv2.imread(image_path, cv2.IMREAD_COLOR)\n",
        "                    image = cv2.resize(image, (dim, dim))\n",
        "                    image = cv2.cvtColor(image, cv2.COLOR_RGB2BGR)\n",
        "                    images.append(image)\n",
        "                    labels.append(i)\n",
        "                    j+=1\n",
        "        images = np.array(images)\n",
        "        labels = np.array(labels)\n",
        "        return images, labels\n",
        "    \n",
        "def getAllFruits():\n",
        "    fruits = []\n",
        "    for fruit_path in glob.glob(\"/content/fruits Dataset/fruits-360_dataset/fruits-360/Training/*\"):\n",
        "        fruit = fruit_path.split(\"/\")[-1]\n",
        "        fruits.append(fruit)\n",
        "    return fruits\n",
        "    "
      ]
    },
    {
      "cell_type": "markdown",
      "metadata": {
        "id": "2uAu2bVAff81"
      },
      "source": [
        "## CHOOSE YOUR CLASS\n",
        "I've implemented two function in order to choose the fruit you want, for binary classification I've decided to take **Cocos** and **Pineapple** cause they look similar and so the classification task will be not too easy."
      ]
    },
    {
      "cell_type": "code",
      "execution_count": 6,
      "metadata": {
        "colab": {
          "base_uri": "https://localhost:8080/"
        },
        "id": "hhC-q6CFff84",
        "outputId": "b594f3d8-cfd5-4049-e50d-137f22418a98"
      },
      "outputs": [
        {
          "output_type": "stream",
          "name": "stdout",
          "text": [
            "There are  490   TRAINING  images of  PINEAPPLE\n",
            "There are  490   TRAINING  images of  COCOS\n",
            "There are  166   TEST  images of  PINEAPPLE\n",
            "There are  166   TEST  images of  COCOS\n"
          ]
        }
      ],
      "source": [
        "#Choose your Fruits\n",
        "fruits = ['Pineapple' , 'Cocos'] #Binary classification\n",
        "\n",
        "#Get Images and Labels \n",
        "X_t, y_train =  getYourFruits(fruits, 'Training', print_n=True, k_fold=False)\n",
        "X_test, y_test = getYourFruits(fruits, 'Test', print_n=True, k_fold=False)\n",
        "\n",
        "#Get data for k-fold\n",
        "X,y = getYourFruits(fruits, '', print_n=True, k_fold=True)\n",
        "\n",
        "#Scale Data Images\n",
        "scaler = StandardScaler()\n",
        "X_train = scaler.fit_transform([i.flatten() for i in X_t])\n",
        "X_test = scaler.fit_transform([i.flatten() for i in X_test])\n",
        "X = scaler.fit_transform([i.flatten() for i in X])"
      ]
    },
    {
      "cell_type": "code",
      "source": [],
      "metadata": {
        "id": "Ccw02pb2qbzQ"
      },
      "execution_count": null,
      "outputs": []
    },
    {
      "cell_type": "markdown",
      "metadata": {
        "id": "PUcxaXMkff9M"
      },
      "source": [
        "# BINARY CLASSIFICATION\n"
      ]
    },
    {
      "cell_type": "code",
      "source": [
        "import numpy as np\n",
        "import matplotlib.pyplot as plt\n",
        "from sklearn.metrics import confusion_matrix"
      ],
      "metadata": {
        "id": "9q-T0QKDzzNM"
      },
      "execution_count": 8,
      "outputs": []
    },
    {
      "cell_type": "code",
      "source": [
        "def plot_confusion_matrix(y_true, y_pred, classes,\n",
        "                          normalize=False,\n",
        "                          title=None,\n",
        "                          cmap=plt.cm.Blues):\n",
        "    \"\"\"\n",
        "    This function prints and plots the confusion matrix.\n",
        "    Normalization can be applied by setting `normalize=True`.\n",
        "    \"\"\"\n",
        "    if not title:\n",
        "        if normalize:\n",
        "            title = 'Normalized confusion matrix'\n",
        "        else:\n",
        "            title = 'Confusion matrix, without normalization'\n",
        "\n",
        "    # Compute confusion matrix\n",
        "    cm = metrics.confusion_matrix(y_true, y_pred)\n",
        "    # Only use the labels that appear in the data\n",
        "    classes = unique_labels(y_true, y_pred)\n",
        "    if normalize:\n",
        "        cm = cm.astype('float') / cm.sum(axis=1)[:, np.newaxis]\n",
        "\n",
        "    fig, ax = plt.subplots()\n",
        "    im = ax.imshow(cm, interpolation='nearest', cmap=cmap)\n",
        "    ax.figure.colorbar(im, ax=ax)\n",
        "    # We want to show all ticks...\n",
        "    ax.set(xticks=np.arange(cm.shape[1]),\n",
        "           yticks=np.arange(cm.shape[0]),\n",
        "           # ... and label them with the respective list entries\n",
        "           xticklabels=fruits, yticklabels=fruits,\n",
        "           title=title,\n",
        "           ylabel='True label',\n",
        "           xlabel='Predicted label')\n",
        "\n",
        "    # Rotate the tick labels and set their alignment.\n",
        "    plt.setp(ax.get_xticklabels(), rotation=45, ha=\"right\",\n",
        "             rotation_mode=\"anchor\")\n",
        "\n",
        "    # Loop over data dimensions and create text annotations.\n",
        "    fmt = '.2f' if normalize else 'd'\n",
        "    thresh = cm.max() / 2.\n",
        "    for i in range(cm.shape[0]):\n",
        "        for j in range(cm.shape[1]):\n",
        "            ax.text(j, i, format(cm[i, j], fmt),\n",
        "                    ha=\"center\", va=\"center\",\n",
        "                    color=\"white\" if cm[i, j] > thresh else \"black\")\n",
        "    fig.tight_layout()\n",
        "    return cm,ax"
      ],
      "metadata": {
        "id": "cNmjNHfKzszV"
      },
      "execution_count": 9,
      "outputs": []
    },
    {
      "cell_type": "markdown",
      "metadata": {
        "id": "HgW9TQHLqBHC"
      },
      "source": [
        "<br> \n",
        "# K-NEAREST NEIGHBOR\n",
        "\n",
        "K-NN is a supervised learning method that considers the K closest training examples to the point of interest for predicting its class. The point is assigned to the class that is closest. <br>\n",
        "Could be applied different distance metrics such as: Euclidian, Weighted, Gaussian, etc.\n",
        "Steps are pretty easy:<br>\n",
        "\n",
        "*  Receive an unclassified data\n",
        "\n",
        "*  Measure the distance with choosen metrics from the new data to all others data that are already classified.\n",
        "\n",
        "*  Gets the K smaller distances\n",
        "\n",
        "*  Check the list of classes that had the shortest distance and count the amount of each class that appears\n",
        "\n",
        "*  Takes as correct class the class that appeared the most times\n",
        "\n",
        "*  Classifies the new data with the class that you took in previous step \n",
        "<br>"
      ]
    },
    {
      "cell_type": "code",
      "execution_count": 10,
      "metadata": {
        "id": "qD3z0L2oqBHD",
        "outputId": "345398f5-a8c3-4d3b-f1a1-1af4b01fc7af",
        "colab": {
          "base_uri": "https://localhost:8080/",
          "height": 504
        }
      },
      "outputs": [
        {
          "output_type": "stream",
          "name": "stdout",
          "text": [
            "Accuracy with K-NN: 96.99%\n"
          ]
        },
        {
          "output_type": "display_data",
          "data": {
            "text/plain": [
              "<Figure size 640x480 with 2 Axes>"
            ],
            "image/png": "[encoded data removed]"
          },
          "metadata": {}
        }
      ],
      "source": [
        "knn = KNeighborsClassifier(n_neighbors=2)\n",
        "knn.fit(X_train, y_train)\n",
        "y_pred = knn.predict(X_test)\n",
        "#Evaluation\n",
        "precision = metrics.accuracy_score(y_pred, y_test) * 100\n",
        "print(\"Accuracy with K-NN: {0:.2f}%\".format(precision))\n",
        "cm , _ = plot_confusion_matrix(y_test, y_pred, classes=y_train, normalize=True, title='Normalized confusion matrix')\n",
        "plt.show()\n",
        "\n",
        "# calculate the FPR and TPR for all thresholds of the classification\n",
        "probs = knn.predict_proba(X_test)\n",
        "probs = probs[:, 1]\n",
        "knn_fpr, knn_tpr, thresholds = metrics.roc_curve(y_test, probs)\n",
        "knn_auc = metrics.roc_auc_score(y_test, probs)\n"
      ]
    },
    {
      "cell_type": "code",
      "execution_count": 12,
      "metadata": {
        "id": "Ue2LWTZYqBHD",
        "outputId": "c2488438-12b3-45b1-da00-9b1052abb57d",
        "colab": {
          "base_uri": "https://localhost:8080/"
        }
      },
      "outputs": [
        {
          "output_type": "stream",
          "name": "stdout",
          "text": [
            "Accuracy with K-NN and K-FOLD CROSS VALIDATION: 1.00 \n"
          ]
        }
      ],
      "source": [
        "#KNN + K-FOLD\n",
        "pred_kfold = cross_val_score(knn, X, y, cv=5) \n",
        "print(\"Accuracy with K-NN and K-FOLD CROSS VALIDATION: %0.2f \" % (pred_kfold.mean()))"
      ]
    },
    {
      "cell_type": "code",
      "execution_count": 13,
      "metadata": {
        "_kg_hide-input": true,
        "id": "Aq_doovIqBHD",
        "outputId": "868c2ea7-2f31-4890-edc0-3ae5d08fb538",
        "colab": {
          "base_uri": "https://localhost:8080/",
          "height": 564
        }
      },
      "outputs": [
        {
          "output_type": "display_data",
          "data": {
            "text/plain": [
              "<Figure size 1000x600 with 1 Axes>"
            ],
            "image/png": "[encoded data removed]"
          },
          "metadata": {}
        }
      ],
      "source": [
        "#CHANGING VALUES OF N\n",
        "accuracy_train = []\n",
        "accuracy_test = []\n",
        "\n",
        "for i in range(1,15):   #check all possible values for 1 to 15\n",
        "    k_nn = KNeighborsClassifier(n_neighbors=i)\n",
        "    k_nn.fit(X_train,y_train)\n",
        "    pred_i = k_nn.predict(X_test)\n",
        "    accuracy_train.append(k_nn.score(X_train,y_train)*100)\n",
        "    accuracy_test.append(k_nn.score(X_test,y_test)*100)\n",
        "    \n",
        "accuracy_train_array=np.asarray(accuracy_train)\n",
        "accuracy_test_array=np.asarray(accuracy_test)\n",
        "    \n",
        "plt.figure(figsize=(10,6))\n",
        "plt.plot(range(1,15),accuracy_train_array, label='Training_Accuracy', color='blue')\n",
        "plt.plot(range(1,15),accuracy_test_array, label='Testing_Accuracy', color='red')\n",
        "plt.legend()\n",
        "plt.title('Accuracy vs K value')\n",
        "plt.xlabel('K')\n",
        "plt.ylabel('Accuracy%')\n",
        "\n",
        "plt.show()"
      ]
    },
    {
      "cell_type": "markdown",
      "metadata": {
        "id": "nXm1-AowqBHD"
      },
      "source": [
        "#### COMMENT\n",
        "\n",
        "From this graph is possible to understand how the best value of K is equal to **2**, because the Test Accuracy reaches the best accuracy score and then start decreasing. \n",
        "\n",
        "Training accuracy still maintain 100% accuracy starting decreasing for last numbers of K "
      ]
    },
    {
      "cell_type": "code",
      "execution_count": 14,
      "metadata": {
        "id": "Pp7-MX8AqBHD",
        "outputId": "062c9e87-90a6-44c7-935a-247e672ae903",
        "colab": {
          "base_uri": "https://localhost:8080/"
        }
      },
      "outputs": [
        {
          "output_type": "stream",
          "name": "stdout",
          "text": [
            "Accuracy with KNN considering only 30PC: 26.81%\n"
          ]
        }
      ],
      "source": [
        "#K-NN + PCA\n",
        "pca = PCA(n_components=30)\n",
        "X_train = pca.fit_transform(X_train)\n",
        "X_test = pca.fit_transform(X_test)\n",
        "\n",
        "knn.fit(X_train, y_train) \n",
        "test_predictions = knn.predict(X_test)\n",
        "precision = metrics.accuracy_score(test_predictions, y_test) * 100\n",
        "print(\"Accuracy with KNN considering only 30PC: {0:.2f}%\".format(precision))\n",
        "\n"
      ]
    },
    {
      "cell_type": "markdown",
      "metadata": {
        "id": "S0xLw8Zcff9h"
      },
      "source": [
        "# MODEL EVALUATION\n"
      ]
    },
    {
      "cell_type": "code",
      "execution_count": 15,
      "metadata": {
        "_kg_hide-input": true,
        "colab": {
          "base_uri": "https://localhost:8080/",
          "height": 472
        },
        "id": "351kpJMCff9i",
        "outputId": "f525a501-9fcc-4f84-ef80-31dec0a5172a"
      },
      "outputs": [
        {
          "output_type": "display_data",
          "data": {
            "text/plain": [
              "<Figure size 640x480 with 1 Axes>"
            ],
            "image/png": "[encoded data removed]"
          },
          "metadata": {}
        }
      ],
      "source": [
        "#ROC CURVE\n",
        "plt.title('ROC Curve')\n",
        "plt.plot([0, 1], [0, 1], linestyle='--')\n",
        "plt.plot(knn_fpr, knn_tpr, 'g', marker='.', label = 'K-NN = %0.3f' % knn_auc)\n",
        "plt.legend(loc = 'lower right')\n",
        "plt.ylabel('True Positive Rate')\n",
        "plt.xlabel('False Positive Rate')\n",
        "plt.show()"
      ]
    },
    {
      "cell_type": "markdown",
      "metadata": {
        "id": "j0r-VfOQff9j"
      },
      "source": [
        "# MULTI-CLASS CLASSIFICATION "
      ]
    },
    {
      "cell_type": "code",
      "execution_count": 16,
      "metadata": {
        "id": "GxW_9GUWff9k"
      },
      "outputs": [],
      "source": [
        "fruits = ['Orange', 'Banana' , 'Strawberry', 'Apple Golden 1', 'Kiwi' , 'Lemon', 'Cocos' , 'Pineapple' , 'Peach', 'Cherry 1', 'Mandarine']\n",
        "#fruits = getAllFruits() #Be sure to have enough free memory\n",
        "\n",
        "#Get Images and Labels\n",
        "X, y =  getYourFruits(fruits, 'Training')\n",
        "X_test, y_test = getYourFruits(fruits, 'Test')\n",
        "\n",
        "#Scale Data Images\n",
        "scaler = StandardScaler()\n",
        "X_train = scaler.fit_transform([i.flatten() for i in X])\n",
        "X_test = scaler.fit_transform([i.flatten() for i in X_test])"
      ]
    },
    {
      "cell_type": "code",
      "execution_count": 17,
      "metadata": {
        "colab": {
          "base_uri": "https://localhost:8080/"
        },
        "id": "30mt3Utgff9k",
        "outputId": "893e7671-e792-46a5-9deb-5bafd5bd764c"
      },
      "outputs": [
        {
          "output_type": "stream",
          "name": "stdout",
          "text": [
            "Accuracy with K-NN: 95.77%\n"
          ]
        }
      ],
      "source": [
        "model = KNeighborsClassifier(n_neighbors=5)\n",
        "model.fit(X_train, y)\n",
        "y_pred = model.predict(X_test)\n",
        "precision = metrics.accuracy_score(y_pred, y_test) * 100\n",
        "print(\"Accuracy with K-NN: {0:.2f}%\".format(precision))\n"
      ]
    },
    {
      "cell_type": "code",
      "source": [
        "from sklearn.metrics import confusion_matrix\n",
        "import seaborn as sns\n",
        "\n",
        "cm = confusion_matrix(y_test, y_pred)\n",
        "ax = sns.heatmap(cm, annot=True, cmap='Blues', fmt='g', cbar=False)\n",
        "ax.set_xlabel('Predicted labels')\n",
        "ax.set_ylabel('True labels')\n",
        "ax.set_title('Confusion Matrix')\n"
      ],
      "metadata": {
        "colab": {
          "base_uri": "https://localhost:8080/",
          "height": 489
        },
        "id": "ReLh1Hxg1DJU",
        "outputId": "6a512686-6ac9-4a12-b1ae-3c0f0d786bb7"
      },
      "execution_count": 18,
      "outputs": [
        {
          "output_type": "execute_result",
          "data": {
            "text/plain": [
              "Text(0.5, 1.0, 'Confusion Matrix')"
            ]
          },
          "metadata": {},
          "execution_count": 18
        },
        {
          "output_type": "display_data",
          "data": {
            "text/plain": [
              "<Figure size 640x480 with 1 Axes>"
            ],
            "image/png": "[encoded data removed]"
          },
          "metadata": {}
        }
      ]
    },
    {
      "cell_type": "markdown",
      "metadata": {
        "id": "CyoPZfhCff9l"
      },
      "source": [
        "### COMMENT \n",
        "SVM is the classification algorithm that performs better in the multi-class classification task."
      ]
    },
    {
      "cell_type": "code",
      "source": [],
      "metadata": {
        "id": "w0fBfNx8TxV1"
      },
      "execution_count": null,
      "outputs": []
    }
  ],
  "metadata": {
    "kernelspec": {
      "display_name": "Python 3",
      "language": "python",
      "name": "python3"
    },
    "language_info": {
      "codemirror_mode": {
        "name": "ipython",
        "version": 3
      },
      "file_extension": ".py",
      "mimetype": "text/x-python",
      "name": "python",
      "nbconvert_exporter": "python",
      "pygments_lexer": "ipython3",
      "version": "3.6.6"
    },
    "colab": {
      "provenance": []
    }
  },
  "nbformat": 4,
  "nbformat_minor": 0
}